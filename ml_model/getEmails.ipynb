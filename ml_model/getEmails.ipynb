{
 "cells": [
  {
   "cell_type": "code",
   "execution_count": 4,
   "metadata": {},
   "outputs": [
    {
     "name": "stdout",
     "output_type": "stream",
     "text": [
      "                                                 Email  label      Status\n",
      "0    Dear Seth,\\n\\nThank you for your recent inquir...    4.0      reject\n",
      "1    Your job alert for software engineer\\n\\n30+ ne...    1.0  not_reject\n",
      "2    Thank you for your interest in RCCo. Unfortuna...    4.0      reject\n",
      "3    You print a lot, which is awesome!👍👍👍\\n\\nThat ...    1.0  not_reject\n",
      "4    Thank you for your interest in TomTom. We appr...    4.0      reject\n",
      "..                                                 ...    ...         ...\n",
      "143  My name is Pawan Jaiswal and I'm a Recruiter a...    1.0  not_reject\n",
      "144  Thank you for your recent inquiry into employm...    4.0      reject\n",
      "145  Thank you for applying to the Backend Develope...    4.0      reject\n",
      "146  Thank you for your interest in the SOFTWARE EN...    4.0      reject\n",
      "147  Thank you for your interest in Nuts.com and ta...    4.0      reject\n",
      "\n",
      "[148 rows x 3 columns]\n"
     ]
    }
   ],
   "source": [
    "import pandas as pd\n",
    "import json\n",
    "\n",
    "csv_df = pd.read_csv(\"./Email_Dataset/RejectionE.csv\")\n",
    "\n",
    "label_mapping = {\n",
    "    'not_reject': 1,  \n",
    "    'reject': 4      \n",
    "}\n",
    "\n",
    "csv_df['label'] = csv_df['Status'].map(label_mapping)\n",
    "\n",
    "with open(\"./Email_Dataset/Emails.json\") as f:\n",
    "  json_data = json.load(f)\n",
    "\n",
    "json_df = pd.DataFrame(json_data)\n",
    "\n",
    "combined_df = pd.concat([json_df, csv_df], ignore_index=True)\n",
    "\n",
    "combined_df = combined_df.sample(frac=1).reset_index(drop=True)\n",
    "\n",
    "combined_df.to_json('combined_dataset.json', orient='records', lines=True)\n",
    "\n",
    "print(combined_df)"
   ]
  }
 ],
 "metadata": {
  "kernelspec": {
   "display_name": "venv",
   "language": "python",
   "name": "python3"
  },
  "language_info": {
   "codemirror_mode": {
    "name": "ipython",
    "version": 3
   },
   "file_extension": ".py",
   "mimetype": "text/x-python",
   "name": "python",
   "nbconvert_exporter": "python",
   "pygments_lexer": "ipython3",
   "version": "3.10.11"
  }
 },
 "nbformat": 4,
 "nbformat_minor": 2
}
